{
 "cells": [
  {
   "cell_type": "markdown",
   "metadata": {},
   "source": [
    "#### Named Entity Recognition"
   ]
  },
  {
   "cell_type": "code",
   "execution_count": 145,
   "metadata": {
    "ExecuteTime": {
     "end_time": "2021-10-31T10:03:41.913559Z",
     "start_time": "2021-10-31T10:03:41.898559Z"
    }
   },
   "outputs": [],
   "source": [
    "import numpy as np # linear algebra\n",
    "import pandas as pd # data processing, CSV file I/O (e.g. pd.read_csv)\n",
    "import string # special operations on strings\n",
    "import spacy # language models\n",
    "\n",
    "from matplotlib.pyplot import imread\n",
    "from matplotlib import pyplot as plt\n",
    "from wordcloud import WordCloud\n",
    "%matplotlib inline "
   ]
  },
  {
   "cell_type": "code",
   "execution_count": 146,
   "metadata": {
    "ExecuteTime": {
     "end_time": "2021-10-31T10:03:42.050567Z",
     "start_time": "2021-10-31T10:03:41.917560Z"
    }
   },
   "outputs": [
    {
     "data": {
      "text/html": [
       "<div>\n",
       "<style scoped>\n",
       "    .dataframe tbody tr th:only-of-type {\n",
       "        vertical-align: middle;\n",
       "    }\n",
       "\n",
       "    .dataframe tbody tr th {\n",
       "        vertical-align: top;\n",
       "    }\n",
       "\n",
       "    .dataframe thead th {\n",
       "        text-align: right;\n",
       "    }\n",
       "</style>\n",
       "<table border=\"1\" class=\"dataframe\">\n",
       "  <thead>\n",
       "    <tr style=\"text-align: right;\">\n",
       "      <th></th>\n",
       "      <th>Meesho is a fraud online shopping site , when you register you won't get any confirmation on mail moreover for your any order there is no confirmation mail. \\r\\nThese things clearly shows how unprofessional and fake meesho is. \\r\\nDon't buy from I lost my 1200 not receive any product . \\r\\nThis is a pathetic scam website . \\r\\nThere's no solution on complaints many times complaint # 1630-5015.\\r\\nDon't install this app I'll recommend to all. \\r\\nHi I am Writing this review as a seller, I will recommend you in a one line that don't open your account in meesho.\\r\\nIt is just waste of time. \\r\\nvery poor seller support, your catalogue can be deleted any time from meesho.\\r\\nNo response from courier service. If you want to spoil your time and money than you can join..Worst first time experience. \\r\\nBought a kurti, paid for it in google pay, but no order was placed in the app. \\r\\nCalled customer care, one lady said money will be returned within a week, but no results. \\r\\nClothes that are sold here are 1st copies/ duplicates from Myntra, Ajio, amazon and other clothing brands. \\r\\nIts better to buy from the original sites when they are on sale. The sizes are not mentioned in every product. \\r\\nClothes sold here are very repetitive typically sold by budding online sellers nowadays.\\r\\npathetic app.\\r\\nBad experience to order here as it delayes the delivery.\\r\\nworthless app</th>\n",
       "    </tr>\n",
       "  </thead>\n",
       "  <tbody>\n",
       "  </tbody>\n",
       "</table>\n",
       "</div>"
      ],
      "text/plain": [
       "Empty DataFrame\n",
       "Columns: [Meesho is a fraud online shopping site , when you register you won't get any confirmation on mail moreover for your any order there is no confirmation mail. \n",
       "These things clearly shows how unprofessional and fake meesho is. \n",
       "Don't buy from I lost my 1200 not receive any product . \n",
       "This is a pathetic scam website . \n",
       "There's no solution on complaints many times complaint # 1630-5015.\n",
       "Don't install this app I'll recommend to all. \n",
       "Hi I am Writing this review as a seller, I will recommend you in a one line that don't open your account in meesho.\n",
       "It is just waste of time. \n",
       "very poor seller support, your catalogue can be deleted any time from meesho.\n",
       "No response from courier service. If you want to spoil your time and money than you can join..Worst first time experience. \n",
       "Bought a kurti, paid for it in google pay, but no order was placed in the app. \n",
       "Called customer care, one lady said money will be returned within a week, but no results. \n",
       "Clothes that are sold here are 1st copies/ duplicates from Myntra, Ajio, amazon and other clothing brands. \n",
       "Its better to buy from the original sites when they are on sale. The sizes are not mentioned in every product. \n",
       "Clothes sold here are very repetitive typically sold by budding online sellers nowadays.\n",
       "pathetic app.\n",
       "Bad experience to order here as it delayes the delivery.\n",
       "worthless app]\n",
       "Index: []"
      ]
     },
     "execution_count": 146,
     "metadata": {},
     "output_type": "execute_result"
    }
   ],
   "source": [
    "meesho=pd.read_csv(\"E:/Gaurav Finance/Revisit/meesho.txt\",error_bad_lines=False)\n",
    "meesho"
   ]
  },
  {
   "cell_type": "code",
   "execution_count": 147,
   "metadata": {
    "ExecuteTime": {
     "end_time": "2021-10-31T10:03:42.160574Z",
     "start_time": "2021-10-31T10:03:42.054568Z"
    }
   },
   "outputs": [
    {
     "data": {
      "text/html": [
       "<div>\n",
       "<style scoped>\n",
       "    .dataframe tbody tr th:only-of-type {\n",
       "        vertical-align: middle;\n",
       "    }\n",
       "\n",
       "    .dataframe tbody tr th {\n",
       "        vertical-align: top;\n",
       "    }\n",
       "\n",
       "    .dataframe thead th {\n",
       "        text-align: right;\n",
       "    }\n",
       "</style>\n",
       "<table border=\"1\" class=\"dataframe\">\n",
       "  <thead>\n",
       "    <tr style=\"text-align: right;\">\n",
       "      <th></th>\n",
       "      <th>Meesho is a fraud online shopping site , when you register you won't get any confirmation on mail moreover for your any order there is no confirmation mail. \\r\\nThese things clearly shows how unprofessional and fake meesho is. \\r\\nDon't buy from I lost my 1200 not receive any product . \\r\\nThis is a pathetic scam website . \\r\\nThere's no solution on complaints many times complaint # 1630-5015.\\r\\nDon't install this app I'll recommend to all. \\r\\nHi I am Writing this review as a seller, I will recommend you in a one line that don't open your account in meesho.\\r\\nIt is just waste of time. \\r\\nvery poor seller support, your catalogue can be deleted any time from meesho.\\r\\nNo response from courier service. If you want to spoil your time and money than you can join..Worst first time experience. \\r\\nBought a kurti, paid for it in google pay, but no order was placed in the app. \\r\\nCalled customer care, one lady said money will be returned within a week, but no results. \\r\\nClothes that are sold here are 1st copies/ duplicates from Myntra, Ajio, amazon and other clothing brands. \\r\\nIts better to buy from the original sites when they are on sale. The sizes are not mentioned in every product. \\r\\nClothes sold here are very repetitive typically sold by budding online sellers nowadays.\\r\\npathetic app.\\r\\nBad experience to order here as it delayes the delivery.\\r\\nworthless app</th>\n",
       "    </tr>\n",
       "  </thead>\n",
       "  <tbody>\n",
       "  </tbody>\n",
       "</table>\n",
       "</div>"
      ],
      "text/plain": [
       "Empty DataFrame\n",
       "Columns: [Meesho is a fraud online shopping site , when you register you won't get any confirmation on mail moreover for your any order there is no confirmation mail. \n",
       "These things clearly shows how unprofessional and fake meesho is. \n",
       "Don't buy from I lost my 1200 not receive any product . \n",
       "This is a pathetic scam website . \n",
       "There's no solution on complaints many times complaint # 1630-5015.\n",
       "Don't install this app I'll recommend to all. \n",
       "Hi I am Writing this review as a seller, I will recommend you in a one line that don't open your account in meesho.\n",
       "It is just waste of time. \n",
       "very poor seller support, your catalogue can be deleted any time from meesho.\n",
       "No response from courier service. If you want to spoil your time and money than you can join..Worst first time experience. \n",
       "Bought a kurti, paid for it in google pay, but no order was placed in the app. \n",
       "Called customer care, one lady said money will be returned within a week, but no results. \n",
       "Clothes that are sold here are 1st copies/ duplicates from Myntra, Ajio, amazon and other clothing brands. \n",
       "Its better to buy from the original sites when they are on sale. The sizes are not mentioned in every product. \n",
       "Clothes sold here are very repetitive typically sold by budding online sellers nowadays.\n",
       "pathetic app.\n",
       "Bad experience to order here as it delayes the delivery.\n",
       "worthless app]\n",
       "Index: []"
      ]
     },
     "execution_count": 147,
     "metadata": {},
     "output_type": "execute_result"
    }
   ],
   "source": [
    "meesho"
   ]
  },
  {
   "cell_type": "code",
   "execution_count": 148,
   "metadata": {
    "ExecuteTime": {
     "end_time": "2021-10-31T10:03:42.292581Z",
     "start_time": "2021-10-31T10:03:42.163574Z"
    }
   },
   "outputs": [
    {
     "data": {
      "text/plain": [
       "\"Meesho is a fraud online shopping site , when you register you won't get any confirmation on mail moreover for your any order there is no confirmation mail. \\r\\nThese things clearly shows how unprofessional and fake meesho is. \\r\\nDon't buy from I lost my 1200 not receive any product . \\r\\nThis is a pathetic scam website . \\r\\nThere's no solution on complaints many times complaint # 1630-5015.\\r\\nDon't install this app I'll recommend to all. \\r\\nHi I am Writing this review as a seller, I will recommend you in a one line that don't open your account in meesho.\\r\\nIt is just waste of time. \\r\\nvery poor seller support, your catalogue can be deleted any time from meesho.\\r\\nNo response from courier service. If you want to spoil your time and money than you can join..Worst first time experience. \\r\\nBought a kurti, paid for it in google pay, but no order was placed in the app. \\r\\nCalled customer care, one lady said money will be returned within a week, but no results. \\r\\nClothes that are sold here are 1st copies/ duplicates from Myntra, Ajio, amazon and other clothing brands. \\r\\nIts better to buy from the original sites when they are on sale. The sizes are not mentioned in every product. \\r\\nClothes sold here are very repetitive typically sold by budding online sellers nowadays.\\r\\npathetic app.\\r\\nBad experience to order here as it delayes the delivery.\\r\\nworthless app\""
      ]
     },
     "execution_count": 148,
     "metadata": {},
     "output_type": "execute_result"
    }
   ],
   "source": [
    "#joining all reviews as one paragraph or single text\n",
    "text = ' '.join(meesho)\n",
    "text"
   ]
  },
  {
   "cell_type": "code",
   "execution_count": 149,
   "metadata": {
    "ExecuteTime": {
     "end_time": "2021-10-31T10:03:42.426589Z",
     "start_time": "2021-10-31T10:03:42.294581Z"
    }
   },
   "outputs": [
    {
     "data": {
      "text/plain": [
       "'Meesho is a fraud online shopping site  when you register you wont get any confirmation on mail moreover for your any order there is no confirmation mail \\r\\nThese things clearly shows how unprofessional and fake meesho is \\r\\nDont buy from I lost my 1200 not receive any product  \\r\\nThis is a pathetic scam website  \\r\\nTheres no solution on complaints many times complaint  16305015\\r\\nDont install this app Ill recommend to all \\r\\nHi I am Writing this review as a seller I will recommend you in a one line that dont open your account in meesho\\r\\nIt is just waste of time \\r\\nvery poor seller support your catalogue can be deleted any time from meesho\\r\\nNo response from courier service If you want to spoil your time and money than you can joinWorst first time experience \\r\\nBought a kurti paid for it in google pay but no order was placed in the app \\r\\nCalled customer care one lady said money will be returned within a week but no results \\r\\nClothes that are sold here are 1st copies duplicates from Myntra Ajio amazon and other clothing brands \\r\\nIts better to buy from the original sites when they are on sale The sizes are not mentioned in every product \\r\\nClothes sold here are very repetitive typically sold by budding online sellers nowadays\\r\\npathetic app\\r\\nBad experience to order here as it delayes the delivery\\r\\nworthless app'"
      ]
     },
     "execution_count": 149,
     "metadata": {},
     "output_type": "execute_result"
    }
   ],
   "source": [
    "#punctuations\n",
    "no_punc = text.translate(str.maketrans('','',string.punctuation))\n",
    "no_punc"
   ]
  },
  {
   "cell_type": "code",
   "execution_count": 150,
   "metadata": {
    "ExecuteTime": {
     "end_time": "2021-10-31T10:03:42.560596Z",
     "start_time": "2021-10-31T10:03:42.429589Z"
    }
   },
   "outputs": [
    {
     "name": "stdout",
     "output_type": "stream",
     "text": [
      "['Meesho', 'is', 'a', 'fraud', 'online', 'shopping', 'site', 'when', 'you', 'register', 'you', 'wont', 'get', 'any', 'confirmation', 'on', 'mail', 'moreover', 'for', 'your', 'any', 'order', 'there', 'is', 'no', 'confirmation', 'mail', 'These', 'things', 'clearly', 'shows', 'how', 'unprofessional', 'and', 'fake', 'meesho', 'is', 'Dont', 'buy', 'from', 'I', 'lost', 'my', '1200', 'not', 'receive', 'any', 'product', 'This', 'is', 'a', 'pathetic', 'scam', 'website', 'Theres', 'no', 'solution', 'on', 'complaints', 'many', 'times', 'complaint', '16305015', 'Dont', 'install', 'this', 'app', 'Ill', 'recommend', 'to', 'all', 'Hi', 'I', 'am', 'Writing', 'this', 'review', 'as', 'a', 'seller', 'I', 'will', 'recommend', 'you', 'in', 'a', 'one', 'line', 'that', 'dont', 'open', 'your', 'account', 'in', 'meesho', 'It', 'is', 'just', 'waste', 'of', 'time', 'very', 'poor', 'seller', 'support', 'your', 'catalogue', 'can', 'be', 'deleted', 'any', 'time', 'from', 'meesho', 'No', 'response', 'from', 'courier', 'service', 'If', 'you', 'want', 'to', 'spoil', 'your', 'time', 'and', 'money', 'than', 'you', 'can', 'joinWorst', 'first', 'time', 'experience', 'Bought', 'a', 'kurti', 'paid', 'for', 'it', 'in', 'google', 'pay', 'but', 'no', 'order', 'was', 'placed', 'in', 'the', 'app', 'Called', 'customer', 'care', 'one', 'lady', 'said', 'money', 'will', 'be', 'returned', 'within', 'a', 'week', 'but', 'no', 'results', 'Clothes', 'that', 'are', 'sold', 'here', 'are', '1st', 'copies', 'duplicates', 'from', 'Myntra', 'Ajio', 'amazon', 'and', 'other', 'clothing', 'brands', 'Its', 'better', 'to', 'buy', 'from', 'the', 'original', 'sites', 'when', 'they', 'are', 'on', 'sale', 'The', 'sizes', 'are', 'not', 'mentioned', 'in', 'every', 'product', 'Clothes', 'sold', 'here', 'are', 'very', 'repetitive', 'typically', 'sold', 'by', 'budding', 'online', 'sellers', 'nowadays', 'pathetic', 'app', 'Bad', 'experience', 'to', 'order', 'here', 'as', 'it', 'delayes', 'the', 'delivery', 'worthless', 'app']\n"
     ]
    }
   ],
   "source": [
    "#tokenisation\n",
    "from nltk.tokenize import word_tokenize\n",
    "text_tokens = word_tokenize(no_punc)\n",
    "print(text_tokens)"
   ]
  },
  {
   "cell_type": "code",
   "execution_count": 151,
   "metadata": {
    "ExecuteTime": {
     "end_time": "2021-10-31T10:03:42.670603Z",
     "start_time": "2021-10-31T10:03:42.563597Z"
    }
   },
   "outputs": [
    {
     "name": "stdout",
     "output_type": "stream",
     "text": [
      "['Meesho', 'fraud', 'online', 'shopping', 'site', 'register', 'wont', 'get', 'confirmation', 'mail', 'moreover', 'order', 'confirmation', 'mail', 'These', 'things', 'clearly', 'shows', 'unprofessional', 'fake', 'meesho', 'Dont', 'buy', 'I', 'lost', '1200', 'receive', 'product', 'This', 'pathetic', 'scam', 'website', 'Theres', 'solution', 'complaints', 'many', 'times', 'complaint', '16305015', 'Dont', 'install', 'app', 'Ill', 'recommend', 'Hi', 'I', 'Writing', 'review', 'seller', 'I', 'recommend', 'one', 'line', 'dont', 'open', 'account', 'meesho', 'It', 'waste', 'time', 'poor', 'seller', 'support', 'catalogue', 'deleted', 'time', 'meesho', 'No', 'response', 'courier', 'service', 'If', 'want', 'spoil', 'time', 'money', 'joinWorst', 'first', 'time', 'experience', 'Bought', 'kurti', 'paid', 'google', 'pay', 'order', 'placed', 'app', 'Called', 'customer', 'care', 'one', 'lady', 'said', 'money', 'returned', 'within', 'week', 'results', 'Clothes', 'sold', '1st', 'copies', 'duplicates', 'Myntra', 'Ajio', 'amazon', 'clothing', 'brands', 'Its', 'better', 'buy', 'original', 'sites', 'sale', 'The', 'sizes', 'mentioned', 'every', 'product', 'Clothes', 'sold', 'repetitive', 'typically', 'sold', 'budding', 'online', 'sellers', 'nowadays', 'pathetic', 'app', 'Bad', 'experience', 'order', 'delayes', 'delivery', 'worthless', 'app']\n"
     ]
    },
    {
     "name": "stderr",
     "output_type": "stream",
     "text": [
      "[nltk_data] Downloading package punkt to C:\\Users\\my\n",
      "[nltk_data]     pc\\AppData\\Roaming\\nltk_data...\n",
      "[nltk_data]   Package punkt is already up-to-date!\n",
      "[nltk_data] Downloading package stopwords to C:\\Users\\my\n",
      "[nltk_data]     pc\\AppData\\Roaming\\nltk_data...\n",
      "[nltk_data]   Package stopwords is already up-to-date!\n"
     ]
    }
   ],
   "source": [
    "#removal of stopwords\n",
    "import nltk\n",
    "from nltk.corpus import stopwords\n",
    "nltk.download('punkt')\n",
    "nltk.download('stopwords')\n",
    "\n",
    "my_stopwords = stopwords.words('english')\n",
    "my_stopwords.append('the')\n",
    "no_stop = [word for word in text_tokens if not word in my_stopwords]\n",
    "print(no_stop)"
   ]
  },
  {
   "cell_type": "code",
   "execution_count": 152,
   "metadata": {
    "ExecuteTime": {
     "end_time": "2021-10-31T10:03:43.386644Z",
     "start_time": "2021-10-31T10:03:42.674603Z"
    }
   },
   "outputs": [],
   "source": [
    "##Part Of Speech Tagging\n",
    "nlp = spacy.load('en_core_web_sm')"
   ]
  },
  {
   "cell_type": "code",
   "execution_count": 153,
   "metadata": {
    "ExecuteTime": {
     "end_time": "2021-10-31T10:03:43.489650Z",
     "start_time": "2021-10-31T10:03:43.389644Z"
    }
   },
   "outputs": [
    {
     "data": {
      "text/html": [
       "<span class=\"tex2jax_ignore\"><div class=\"entities\" style=\"line-height: 2.5; direction: ltr\">Meesho is a fraud online shopping site , when you register you won't get any confirmation on mail moreover for your any order there is no confirmation mail. \r",
       "</br>These things clearly shows how unprofessional and fake meesho is. \r",
       "</br>Don't buy from I lost my \n",
       "<mark class=\"entity\" style=\"background: #e4e7d2; padding: 0.45em 0.6em; margin: 0 0.25em; line-height: 1; border-radius: 0.35em;\">\n",
       "    1200\n",
       "    <span style=\"font-size: 0.8em; font-weight: bold; line-height: 1; border-radius: 0.35em; vertical-align: middle; margin-left: 0.5rem\">CARDINAL</span>\n",
       "</mark>\n",
       " not receive any product . \r",
       "</br>This is a pathetic scam website . \r",
       "</br>There's no solution on complaints many times complaint # 1630-5015.\r",
       "</br>Don't install this app I'll recommend to all. \r",
       "</br>Hi I am Writing this review as a seller, I will recommend you in a \n",
       "<mark class=\"entity\" style=\"background: #e4e7d2; padding: 0.45em 0.6em; margin: 0 0.25em; line-height: 1; border-radius: 0.35em;\">\n",
       "    one\n",
       "    <span style=\"font-size: 0.8em; font-weight: bold; line-height: 1; border-radius: 0.35em; vertical-align: middle; margin-left: 0.5rem\">CARDINAL</span>\n",
       "</mark>\n",
       " line that don't open your account in meesho.\r",
       "</br>It is just waste of time. \r",
       "</br>very poor seller support, your catalogue can be deleted any time from meesho.\r",
       "</br>No response from courier service. If you want to spoil your time and money than you can join..Worst \n",
       "<mark class=\"entity\" style=\"background: #e4e7d2; padding: 0.45em 0.6em; margin: 0 0.25em; line-height: 1; border-radius: 0.35em;\">\n",
       "    first\n",
       "    <span style=\"font-size: 0.8em; font-weight: bold; line-height: 1; border-radius: 0.35em; vertical-align: middle; margin-left: 0.5rem\">ORDINAL</span>\n",
       "</mark>\n",
       " time experience. \r",
       "</br>Bought a kurti, paid for it in google pay, but no order was placed in the app. \r",
       "</br>Called customer care, \n",
       "<mark class=\"entity\" style=\"background: #e4e7d2; padding: 0.45em 0.6em; margin: 0 0.25em; line-height: 1; border-radius: 0.35em;\">\n",
       "    one\n",
       "    <span style=\"font-size: 0.8em; font-weight: bold; line-height: 1; border-radius: 0.35em; vertical-align: middle; margin-left: 0.5rem\">CARDINAL</span>\n",
       "</mark>\n",
       " lady said money will be returned within \n",
       "<mark class=\"entity\" style=\"background: #bfe1d9; padding: 0.45em 0.6em; margin: 0 0.25em; line-height: 1; border-radius: 0.35em;\">\n",
       "    a week\n",
       "    <span style=\"font-size: 0.8em; font-weight: bold; line-height: 1; border-radius: 0.35em; vertical-align: middle; margin-left: 0.5rem\">DATE</span>\n",
       "</mark>\n",
       ", but no results. \r",
       "</br>\n",
       "<mark class=\"entity\" style=\"background: #aa9cfc; padding: 0.45em 0.6em; margin: 0 0.25em; line-height: 1; border-radius: 0.35em;\">\n",
       "    Clothes\n",
       "    <span style=\"font-size: 0.8em; font-weight: bold; line-height: 1; border-radius: 0.35em; vertical-align: middle; margin-left: 0.5rem\">PERSON</span>\n",
       "</mark>\n",
       " that are sold here are \n",
       "<mark class=\"entity\" style=\"background: #e4e7d2; padding: 0.45em 0.6em; margin: 0 0.25em; line-height: 1; border-radius: 0.35em;\">\n",
       "    1st\n",
       "    <span style=\"font-size: 0.8em; font-weight: bold; line-height: 1; border-radius: 0.35em; vertical-align: middle; margin-left: 0.5rem\">ORDINAL</span>\n",
       "</mark>\n",
       " copies/ duplicates from \n",
       "<mark class=\"entity\" style=\"background: #7aecec; padding: 0.45em 0.6em; margin: 0 0.25em; line-height: 1; border-radius: 0.35em;\">\n",
       "    Myntra\n",
       "    <span style=\"font-size: 0.8em; font-weight: bold; line-height: 1; border-radius: 0.35em; vertical-align: middle; margin-left: 0.5rem\">ORG</span>\n",
       "</mark>\n",
       ", \n",
       "<mark class=\"entity\" style=\"background: #aa9cfc; padding: 0.45em 0.6em; margin: 0 0.25em; line-height: 1; border-radius: 0.35em;\">\n",
       "    Ajio\n",
       "    <span style=\"font-size: 0.8em; font-weight: bold; line-height: 1; border-radius: 0.35em; vertical-align: middle; margin-left: 0.5rem\">PERSON</span>\n",
       "</mark>\n",
       ", amazon and other clothing brands. \r",
       "</br>Its better to buy from the original sites when they are on sale. The sizes are not mentioned in every product. \r",
       "</br>\n",
       "<mark class=\"entity\" style=\"background: #aa9cfc; padding: 0.45em 0.6em; margin: 0 0.25em; line-height: 1; border-radius: 0.35em;\">\n",
       "    Clothes\n",
       "    <span style=\"font-size: 0.8em; font-weight: bold; line-height: 1; border-radius: 0.35em; vertical-align: middle; margin-left: 0.5rem\">PERSON</span>\n",
       "</mark>\n",
       " sold here are very repetitive typically sold by budding online sellers nowadays.\r",
       "</br>pathetic app.\r",
       "</br>\n",
       "<mark class=\"entity\" style=\"background: #aa9cfc; padding: 0.45em 0.6em; margin: 0 0.25em; line-height: 1; border-radius: 0.35em;\">\n",
       "    Bad\n",
       "    <span style=\"font-size: 0.8em; font-weight: bold; line-height: 1; border-radius: 0.35em; vertical-align: middle; margin-left: 0.5rem\">PERSON</span>\n",
       "</mark>\n",
       " experience to order here as it delayes the delivery.\r",
       "</br>worthless app</div></span>"
      ],
      "text/plain": [
       "<IPython.core.display.HTML object>"
      ]
     },
     "metadata": {},
     "output_type": "display_data"
    }
   ],
   "source": [
    "one_block = text[0:]\n",
    "doc_block = nlp(one_block)\n",
    "spacy.displacy.render(doc_block, style='ent', jupyter=True) "
   ]
  },
  {
   "cell_type": "code",
   "execution_count": 154,
   "metadata": {
    "ExecuteTime": {
     "end_time": "2021-10-31T10:03:43.547653Z",
     "start_time": "2021-10-31T10:03:43.491650Z"
    }
   },
   "outputs": [
    {
     "name": "stdout",
     "output_type": "stream",
     "text": [
      "Meesho PROPN\n",
      "is AUX\n",
      "a DET\n",
      "fraud NOUN\n",
      "online ADJ\n",
      "shopping NOUN\n",
      "site NOUN\n",
      ", PUNCT\n",
      "when ADV\n",
      "you PRON\n",
      "register VERB\n",
      "you PRON\n",
      "wo AUX\n",
      "n't PART\n",
      "get VERB\n",
      "any DET\n",
      "confirmation NOUN\n",
      "on ADP\n",
      "mail NOUN\n",
      "moreover ADV\n",
      "for ADP\n",
      "your PRON\n",
      "any DET\n",
      "order NOUN\n",
      "there PRON\n",
      "is VERB\n",
      "no DET\n",
      "confirmation NOUN\n",
      "mail NOUN\n",
      ". PUNCT\n",
      "\r\n",
      " SPACE\n",
      "These DET\n",
      "things NOUN\n",
      "clearly ADV\n",
      "shows VERB\n",
      "how ADV\n",
      "unprofessional ADJ\n",
      "and CCONJ\n",
      "fake ADJ\n",
      "meesho NOUN\n",
      "is AUX\n",
      ". PUNCT\n",
      "\r\n",
      " SPACE\n",
      "Do AUX\n",
      "n't PART\n",
      "buy VERB\n",
      "from ADP\n",
      "I PRON\n",
      "lost VERB\n",
      "my PRON\n",
      "1200 NUM\n",
      "not PART\n",
      "receive VERB\n",
      "any DET\n",
      "product NOUN\n",
      ". PUNCT\n",
      "\r\n",
      " SPACE\n",
      "This DET\n",
      "is AUX\n",
      "a DET\n",
      "pathetic ADJ\n",
      "scam NOUN\n",
      "website NOUN\n",
      ". PUNCT\n",
      "\r\n",
      " SPACE\n",
      "There PRON\n",
      "'s AUX\n",
      "no DET\n",
      "solution NOUN\n",
      "on ADP\n",
      "complaints NOUN\n",
      "many ADJ\n",
      "times NOUN\n",
      "complaint VERB\n",
      "# SYM\n",
      "1630 NUM\n",
      "- SYM\n",
      "5015 NUM\n",
      ". PUNCT\n",
      "\r\n",
      " SPACE\n",
      "Do AUX\n",
      "n't PART\n",
      "install VERB\n",
      "this DET\n",
      "app NOUN\n",
      "I PRON\n",
      "'ll AUX\n",
      "recommend VERB\n",
      "to ADP\n",
      "all DET\n",
      ". PUNCT\n",
      "\r\n",
      " SPACE\n",
      "Hi INTJ\n",
      "I PRON\n",
      "am AUX\n",
      "Writing VERB\n",
      "this DET\n",
      "review NOUN\n",
      "as ADP\n",
      "a DET\n",
      "seller NOUN\n",
      ", PUNCT\n",
      "I PRON\n",
      "will AUX\n",
      "recommend VERB\n",
      "you PRON\n",
      "in ADP\n",
      "a DET\n",
      "one NUM\n",
      "line NOUN\n",
      "that DET\n",
      "do AUX\n",
      "n't PART\n",
      "open VERB\n",
      "your PRON\n",
      "account NOUN\n",
      "in ADP\n",
      "meesho NOUN\n",
      ". PUNCT\n",
      "\r\n",
      " SPACE\n",
      "It PRON\n",
      "is AUX\n",
      "just ADV\n",
      "waste NOUN\n",
      "of ADP\n",
      "time NOUN\n",
      ". PUNCT\n",
      "\r\n",
      " SPACE\n",
      "very ADV\n",
      "poor ADJ\n",
      "seller NOUN\n",
      "support NOUN\n",
      ", PUNCT\n",
      "your PRON\n",
      "catalogue NOUN\n",
      "can AUX\n",
      "be AUX\n",
      "deleted VERB\n",
      "any DET\n",
      "time NOUN\n",
      "from ADP\n",
      "meesho NOUN\n",
      ". PUNCT\n",
      "\r\n",
      " SPACE\n",
      "No DET\n",
      "response NOUN\n",
      "from ADP\n",
      "courier NOUN\n",
      "service NOUN\n",
      ". PUNCT\n",
      "If SCONJ\n",
      "you PRON\n",
      "want VERB\n",
      "to PART\n",
      "spoil VERB\n",
      "your PRON\n",
      "time NOUN\n",
      "and CCONJ\n",
      "money NOUN\n",
      "than SCONJ\n",
      "you PRON\n",
      "can AUX\n",
      "join VERB\n",
      ".. PUNCT\n",
      "Worst ADJ\n",
      "first ADJ\n",
      "time NOUN\n",
      "experience NOUN\n",
      ". PUNCT\n",
      "\r\n",
      " SPACE\n",
      "Bought VERB\n",
      "a DET\n",
      "kurti NOUN\n",
      ", PUNCT\n",
      "paid VERB\n",
      "for ADP\n",
      "it PRON\n",
      "in ADP\n",
      "google PROPN\n",
      "pay NOUN\n",
      ", PUNCT\n",
      "but CCONJ\n",
      "no DET\n",
      "order NOUN\n",
      "was AUX\n",
      "placed VERB\n",
      "in ADP\n",
      "the DET\n",
      "app NOUN\n",
      ". PUNCT\n",
      "\r\n",
      " SPACE\n",
      "Called VERB\n",
      "customer NOUN\n",
      "care NOUN\n",
      ", PUNCT\n",
      "one NUM\n",
      "lady NOUN\n",
      "said VERB\n",
      "money NOUN\n",
      "will AUX\n",
      "be AUX\n",
      "returned VERB\n",
      "within ADP\n",
      "a DET\n",
      "week NOUN\n",
      ", PUNCT\n",
      "but CCONJ\n",
      "no DET\n",
      "results NOUN\n",
      ". PUNCT\n",
      "\r\n",
      " SPACE\n",
      "Clothes NOUN\n",
      "that DET\n",
      "are AUX\n",
      "sold VERB\n",
      "here ADV\n",
      "are AUX\n",
      "1st ADJ\n",
      "copies/ PUNCT\n",
      "duplicates NOUN\n",
      "from ADP\n",
      "Myntra PROPN\n",
      ", PUNCT\n",
      "Ajio PROPN\n",
      ", PUNCT\n",
      "amazon NOUN\n",
      "and CCONJ\n",
      "other ADJ\n",
      "clothing NOUN\n",
      "brands NOUN\n",
      ". PUNCT\n",
      "\r\n",
      " SPACE\n",
      "Its PRON\n",
      "better ADJ\n",
      "to PART\n",
      "buy VERB\n",
      "from ADP\n",
      "the DET\n",
      "original ADJ\n",
      "sites NOUN\n",
      "when ADV\n",
      "they PRON\n",
      "are VERB\n",
      "on ADP\n",
      "sale NOUN\n",
      ". PUNCT\n",
      "The DET\n",
      "sizes NOUN\n",
      "are AUX\n",
      "not PART\n",
      "mentioned VERB\n",
      "in ADP\n",
      "every DET\n",
      "product NOUN\n",
      ". PUNCT\n",
      "\r\n",
      " SPACE\n",
      "Clothes NOUN\n",
      "sold VERB\n",
      "here ADV\n",
      "are AUX\n",
      "very ADV\n",
      "repetitive ADJ\n",
      "typically ADV\n",
      "sold VERB\n",
      "by ADP\n",
      "budding VERB\n",
      "online ADJ\n",
      "sellers NOUN\n",
      "nowadays ADV\n",
      ". PUNCT\n",
      "\r\n",
      " SPACE\n",
      "pathetic ADJ\n",
      "app NOUN\n",
      ". PUNCT\n",
      "\r\n",
      " SPACE\n",
      "Bad ADJ\n",
      "experience NOUN\n",
      "to PART\n",
      "order VERB\n",
      "here ADV\n",
      "as ADP\n",
      "it PRON\n",
      "delayes VERB\n",
      "the DET\n",
      "delivery NOUN\n",
      ". PUNCT\n",
      "\r\n",
      " SPACE\n",
      "worthless ADJ\n",
      "app NOUN\n"
     ]
    }
   ],
   "source": [
    "#tokenisation for the entire blog\n",
    "for token in doc_block[0:]:\n",
    "    print(token, token.pos_) "
   ]
  },
  {
   "cell_type": "markdown",
   "metadata": {},
   "source": [
    "#### Emotion Mining"
   ]
  },
  {
   "cell_type": "code",
   "execution_count": 155,
   "metadata": {
    "ExecuteTime": {
     "end_time": "2021-10-31T10:03:43.650659Z",
     "start_time": "2021-10-31T10:03:43.560654Z"
    }
   },
   "outputs": [
    {
     "data": {
      "text/plain": [
       "(7945, 2)"
      ]
     },
     "execution_count": 155,
     "metadata": {},
     "output_type": "execute_result"
    }
   ],
   "source": [
    "#Sentiment analysis\n",
    "afinn = pd.read_csv('E:/Gaurav Finance/Revisit/Afinn.csv', sep=',', encoding='latin-1')\n",
    "afinn.shape "
   ]
  },
  {
   "cell_type": "code",
   "execution_count": 156,
   "metadata": {
    "ExecuteTime": {
     "end_time": "2021-10-31T10:03:43.752665Z",
     "start_time": "2021-10-31T10:03:43.652659Z"
    }
   },
   "outputs": [
    {
     "data": {
      "text/plain": [
       "[\"Meesho is a fraud online shopping site , when you register you won't get any confirmation on mail moreover for your any order there is no confirmation mail.\",\n",
       " 'These things clearly shows how unprofessional and fake meesho is.',\n",
       " \"Don't buy from I lost my 1200 not receive any product .\",\n",
       " 'This is a pathetic scam website .',\n",
       " \"There's no solution on complaints many times complaint # 1630-5015.\",\n",
       " \"Don't install this app I'll recommend to all.\",\n",
       " \"Hi I am Writing this review as a seller, I will recommend you in a one line that don't open your account in meesho.\",\n",
       " 'It is just waste of time.',\n",
       " 'very poor seller support, your catalogue can be deleted any time from meesho.',\n",
       " 'No response from courier service.',\n",
       " 'If you want to spoil your time and money than you can join..Worst first time experience.',\n",
       " 'Bought a kurti, paid for it in google pay, but no order was placed in the app.',\n",
       " 'Called customer care, one lady said money will be returned within a week, but no results.',\n",
       " 'Clothes that are sold here are 1st copies/ duplicates from Myntra, Ajio, amazon and other clothing brands.',\n",
       " 'Its better to buy from the original sites when they are on sale.',\n",
       " 'The sizes are not mentioned in every product.',\n",
       " 'Clothes sold here are very repetitive typically sold by budding online sellers nowadays.',\n",
       " 'pathetic app.',\n",
       " 'Bad experience to order here as it delayes the delivery.',\n",
       " 'worthless app']"
      ]
     },
     "execution_count": 156,
     "metadata": {},
     "output_type": "execute_result"
    }
   ],
   "source": [
    "from nltk import tokenize\n",
    "sentences = tokenize.sent_tokenize(\" \".join(meesho))\n",
    "sentences[0:] "
   ]
  },
  {
   "cell_type": "code",
   "execution_count": 157,
   "metadata": {
    "ExecuteTime": {
     "end_time": "2021-10-31T10:03:43.886672Z",
     "start_time": "2021-10-31T10:03:43.754665Z"
    }
   },
   "outputs": [
    {
     "data": {
      "text/html": [
       "<div>\n",
       "<style scoped>\n",
       "    .dataframe tbody tr th:only-of-type {\n",
       "        vertical-align: middle;\n",
       "    }\n",
       "\n",
       "    .dataframe tbody tr th {\n",
       "        vertical-align: top;\n",
       "    }\n",
       "\n",
       "    .dataframe thead th {\n",
       "        text-align: right;\n",
       "    }\n",
       "</style>\n",
       "<table border=\"1\" class=\"dataframe\">\n",
       "  <thead>\n",
       "    <tr style=\"text-align: right;\">\n",
       "      <th></th>\n",
       "      <th>sentence</th>\n",
       "    </tr>\n",
       "  </thead>\n",
       "  <tbody>\n",
       "    <tr>\n",
       "      <th>0</th>\n",
       "      <td>Meesho is a fraud online shopping site , when ...</td>\n",
       "    </tr>\n",
       "    <tr>\n",
       "      <th>1</th>\n",
       "      <td>These things clearly shows how unprofessional ...</td>\n",
       "    </tr>\n",
       "    <tr>\n",
       "      <th>2</th>\n",
       "      <td>Don't buy from I lost my 1200 not receive any ...</td>\n",
       "    </tr>\n",
       "    <tr>\n",
       "      <th>3</th>\n",
       "      <td>This is a pathetic scam website .</td>\n",
       "    </tr>\n",
       "    <tr>\n",
       "      <th>4</th>\n",
       "      <td>There's no solution on complaints many times c...</td>\n",
       "    </tr>\n",
       "    <tr>\n",
       "      <th>5</th>\n",
       "      <td>Don't install this app I'll recommend to all.</td>\n",
       "    </tr>\n",
       "    <tr>\n",
       "      <th>6</th>\n",
       "      <td>Hi I am Writing this review as a seller, I wil...</td>\n",
       "    </tr>\n",
       "    <tr>\n",
       "      <th>7</th>\n",
       "      <td>It is just waste of time.</td>\n",
       "    </tr>\n",
       "    <tr>\n",
       "      <th>8</th>\n",
       "      <td>very poor seller support, your catalogue can b...</td>\n",
       "    </tr>\n",
       "    <tr>\n",
       "      <th>9</th>\n",
       "      <td>No response from courier service.</td>\n",
       "    </tr>\n",
       "    <tr>\n",
       "      <th>10</th>\n",
       "      <td>If you want to spoil your time and money than ...</td>\n",
       "    </tr>\n",
       "    <tr>\n",
       "      <th>11</th>\n",
       "      <td>Bought a kurti, paid for it in google pay, but...</td>\n",
       "    </tr>\n",
       "    <tr>\n",
       "      <th>12</th>\n",
       "      <td>Called customer care, one lady said money will...</td>\n",
       "    </tr>\n",
       "    <tr>\n",
       "      <th>13</th>\n",
       "      <td>Clothes that are sold here are 1st copies/ dup...</td>\n",
       "    </tr>\n",
       "    <tr>\n",
       "      <th>14</th>\n",
       "      <td>Its better to buy from the original sites when...</td>\n",
       "    </tr>\n",
       "    <tr>\n",
       "      <th>15</th>\n",
       "      <td>The sizes are not mentioned in every product.</td>\n",
       "    </tr>\n",
       "    <tr>\n",
       "      <th>16</th>\n",
       "      <td>Clothes sold here are very repetitive typicall...</td>\n",
       "    </tr>\n",
       "    <tr>\n",
       "      <th>17</th>\n",
       "      <td>pathetic app.</td>\n",
       "    </tr>\n",
       "    <tr>\n",
       "      <th>18</th>\n",
       "      <td>Bad experience to order here as it delayes the...</td>\n",
       "    </tr>\n",
       "    <tr>\n",
       "      <th>19</th>\n",
       "      <td>worthless app</td>\n",
       "    </tr>\n",
       "  </tbody>\n",
       "</table>\n",
       "</div>"
      ],
      "text/plain": [
       "                                             sentence\n",
       "0   Meesho is a fraud online shopping site , when ...\n",
       "1   These things clearly shows how unprofessional ...\n",
       "2   Don't buy from I lost my 1200 not receive any ...\n",
       "3                   This is a pathetic scam website .\n",
       "4   There's no solution on complaints many times c...\n",
       "5       Don't install this app I'll recommend to all.\n",
       "6   Hi I am Writing this review as a seller, I wil...\n",
       "7                           It is just waste of time.\n",
       "8   very poor seller support, your catalogue can b...\n",
       "9                   No response from courier service.\n",
       "10  If you want to spoil your time and money than ...\n",
       "11  Bought a kurti, paid for it in google pay, but...\n",
       "12  Called customer care, one lady said money will...\n",
       "13  Clothes that are sold here are 1st copies/ dup...\n",
       "14  Its better to buy from the original sites when...\n",
       "15      The sizes are not mentioned in every product.\n",
       "16  Clothes sold here are very repetitive typicall...\n",
       "17                                      pathetic app.\n",
       "18  Bad experience to order here as it delayes the...\n",
       "19                                      worthless app"
      ]
     },
     "execution_count": 157,
     "metadata": {},
     "output_type": "execute_result"
    }
   ],
   "source": [
    "sent_df = pd.DataFrame(sentences, columns=['sentence'])\n",
    "sent_df "
   ]
  },
  {
   "cell_type": "code",
   "execution_count": 158,
   "metadata": {
    "ExecuteTime": {
     "end_time": "2021-10-31T10:03:44.020680Z",
     "start_time": "2021-10-31T10:03:43.889672Z"
    }
   },
   "outputs": [],
   "source": [
    "affinity_scores = afinn.set_index('word')['value'].to_dict() "
   ]
  },
  {
   "cell_type": "code",
   "execution_count": 159,
   "metadata": {
    "ExecuteTime": {
     "end_time": "2021-10-31T10:03:44.730320Z",
     "start_time": "2021-10-31T10:03:44.023680Z"
    }
   },
   "outputs": [],
   "source": [
    "#Custom function :score each word in a sentence in lemmatised form, \n",
    "#but calculate the score for the whole original sentence.\n",
    "nlp = spacy.load('en_core_web_sm')\n",
    "sentiment_lexicon = affinity_scores\n",
    "\n",
    "def calculate_sentiment(text: str = None):\n",
    "    sent_score = 0\n",
    "    if text:\n",
    "        sentence = nlp(text)\n",
    "        for word in sentence:\n",
    "            sent_score += sentiment_lexicon.get(word.lemma_, 0)\n",
    "    return sent_score "
   ]
  },
  {
   "cell_type": "code",
   "execution_count": 160,
   "metadata": {
    "ExecuteTime": {
     "end_time": "2021-10-31T10:03:44.959333Z",
     "start_time": "2021-10-31T10:03:44.732320Z"
    }
   },
   "outputs": [],
   "source": [
    "sent_df['sentiment_value'] = sent_df['sentence'].apply(calculate_sentiment) "
   ]
  },
  {
   "cell_type": "code",
   "execution_count": 161,
   "metadata": {
    "ExecuteTime": {
     "end_time": "2021-10-31T10:03:44.982334Z",
     "start_time": "2021-10-31T10:03:44.965333Z"
    }
   },
   "outputs": [
    {
     "data": {
      "text/plain": [
       "0     28\n",
       "1     10\n",
       "2     12\n",
       "3      7\n",
       "4     10\n",
       "5      8\n",
       "6     24\n",
       "7      6\n",
       "8     13\n",
       "9      5\n",
       "10    16\n",
       "11    17\n",
       "12    16\n",
       "13    17\n",
       "14    13\n",
       "15     8\n",
       "16    13\n",
       "17     2\n",
       "18    10\n",
       "19     2\n",
       "Name: word_count, dtype: int64"
      ]
     },
     "execution_count": 161,
     "metadata": {},
     "output_type": "execute_result"
    }
   ],
   "source": [
    "# how many words are in the sentence?\n",
    "sent_df['word_count'] = sent_df['sentence'].str.split().apply(len)\n",
    "sent_df['word_count']"
   ]
  },
  {
   "cell_type": "code",
   "execution_count": 162,
   "metadata": {
    "ExecuteTime": {
     "end_time": "2021-10-31T10:03:45.090340Z",
     "start_time": "2021-10-31T10:03:44.987334Z"
    }
   },
   "outputs": [
    {
     "data": {
      "text/html": [
       "<div>\n",
       "<style scoped>\n",
       "    .dataframe tbody tr th:only-of-type {\n",
       "        vertical-align: middle;\n",
       "    }\n",
       "\n",
       "    .dataframe tbody tr th {\n",
       "        vertical-align: top;\n",
       "    }\n",
       "\n",
       "    .dataframe thead th {\n",
       "        text-align: right;\n",
       "    }\n",
       "</style>\n",
       "<table border=\"1\" class=\"dataframe\">\n",
       "  <thead>\n",
       "    <tr style=\"text-align: right;\">\n",
       "      <th></th>\n",
       "      <th>sentence</th>\n",
       "      <th>sentiment_value</th>\n",
       "      <th>word_count</th>\n",
       "    </tr>\n",
       "  </thead>\n",
       "  <tbody>\n",
       "    <tr>\n",
       "      <th>0</th>\n",
       "      <td>Meesho is a fraud online shopping site , when ...</td>\n",
       "      <td>-5</td>\n",
       "      <td>28</td>\n",
       "    </tr>\n",
       "    <tr>\n",
       "      <th>1</th>\n",
       "      <td>These things clearly shows how unprofessional ...</td>\n",
       "      <td>-4</td>\n",
       "      <td>10</td>\n",
       "    </tr>\n",
       "    <tr>\n",
       "      <th>2</th>\n",
       "      <td>Don't buy from I lost my 1200 not receive any ...</td>\n",
       "      <td>-3</td>\n",
       "      <td>12</td>\n",
       "    </tr>\n",
       "    <tr>\n",
       "      <th>3</th>\n",
       "      <td>This is a pathetic scam website .</td>\n",
       "      <td>-4</td>\n",
       "      <td>7</td>\n",
       "    </tr>\n",
       "    <tr>\n",
       "      <th>4</th>\n",
       "      <td>There's no solution on complaints many times c...</td>\n",
       "      <td>-6</td>\n",
       "      <td>10</td>\n",
       "    </tr>\n",
       "    <tr>\n",
       "      <th>5</th>\n",
       "      <td>Don't install this app I'll recommend to all.</td>\n",
       "      <td>2</td>\n",
       "      <td>8</td>\n",
       "    </tr>\n",
       "    <tr>\n",
       "      <th>6</th>\n",
       "      <td>Hi I am Writing this review as a seller, I wil...</td>\n",
       "      <td>2</td>\n",
       "      <td>24</td>\n",
       "    </tr>\n",
       "    <tr>\n",
       "      <th>7</th>\n",
       "      <td>It is just waste of time.</td>\n",
       "      <td>-1</td>\n",
       "      <td>6</td>\n",
       "    </tr>\n",
       "    <tr>\n",
       "      <th>8</th>\n",
       "      <td>very poor seller support, your catalogue can b...</td>\n",
       "      <td>0</td>\n",
       "      <td>13</td>\n",
       "    </tr>\n",
       "    <tr>\n",
       "      <th>9</th>\n",
       "      <td>No response from courier service.</td>\n",
       "      <td>-1</td>\n",
       "      <td>5</td>\n",
       "    </tr>\n",
       "    <tr>\n",
       "      <th>10</th>\n",
       "      <td>If you want to spoil your time and money than ...</td>\n",
       "      <td>-4</td>\n",
       "      <td>16</td>\n",
       "    </tr>\n",
       "    <tr>\n",
       "      <th>11</th>\n",
       "      <td>Bought a kurti, paid for it in google pay, but...</td>\n",
       "      <td>-3</td>\n",
       "      <td>17</td>\n",
       "    </tr>\n",
       "    <tr>\n",
       "      <th>12</th>\n",
       "      <td>Called customer care, one lady said money will...</td>\n",
       "      <td>1</td>\n",
       "      <td>16</td>\n",
       "    </tr>\n",
       "    <tr>\n",
       "      <th>13</th>\n",
       "      <td>Clothes that are sold here are 1st copies/ dup...</td>\n",
       "      <td>0</td>\n",
       "      <td>17</td>\n",
       "    </tr>\n",
       "    <tr>\n",
       "      <th>14</th>\n",
       "      <td>Its better to buy from the original sites when...</td>\n",
       "      <td>3</td>\n",
       "      <td>13</td>\n",
       "    </tr>\n",
       "    <tr>\n",
       "      <th>15</th>\n",
       "      <td>The sizes are not mentioned in every product.</td>\n",
       "      <td>0</td>\n",
       "      <td>8</td>\n",
       "    </tr>\n",
       "    <tr>\n",
       "      <th>16</th>\n",
       "      <td>Clothes sold here are very repetitive typicall...</td>\n",
       "      <td>-3</td>\n",
       "      <td>13</td>\n",
       "    </tr>\n",
       "    <tr>\n",
       "      <th>17</th>\n",
       "      <td>pathetic app.</td>\n",
       "      <td>-2</td>\n",
       "      <td>2</td>\n",
       "    </tr>\n",
       "    <tr>\n",
       "      <th>18</th>\n",
       "      <td>Bad experience to order here as it delayes the...</td>\n",
       "      <td>-4</td>\n",
       "      <td>10</td>\n",
       "    </tr>\n",
       "    <tr>\n",
       "      <th>19</th>\n",
       "      <td>worthless app</td>\n",
       "      <td>-2</td>\n",
       "      <td>2</td>\n",
       "    </tr>\n",
       "  </tbody>\n",
       "</table>\n",
       "</div>"
      ],
      "text/plain": [
       "                                             sentence  sentiment_value  \\\n",
       "0   Meesho is a fraud online shopping site , when ...               -5   \n",
       "1   These things clearly shows how unprofessional ...               -4   \n",
       "2   Don't buy from I lost my 1200 not receive any ...               -3   \n",
       "3                   This is a pathetic scam website .               -4   \n",
       "4   There's no solution on complaints many times c...               -6   \n",
       "5       Don't install this app I'll recommend to all.                2   \n",
       "6   Hi I am Writing this review as a seller, I wil...                2   \n",
       "7                           It is just waste of time.               -1   \n",
       "8   very poor seller support, your catalogue can b...                0   \n",
       "9                   No response from courier service.               -1   \n",
       "10  If you want to spoil your time and money than ...               -4   \n",
       "11  Bought a kurti, paid for it in google pay, but...               -3   \n",
       "12  Called customer care, one lady said money will...                1   \n",
       "13  Clothes that are sold here are 1st copies/ dup...                0   \n",
       "14  Its better to buy from the original sites when...                3   \n",
       "15      The sizes are not mentioned in every product.                0   \n",
       "16  Clothes sold here are very repetitive typicall...               -3   \n",
       "17                                      pathetic app.               -2   \n",
       "18  Bad experience to order here as it delayes the...               -4   \n",
       "19                                      worthless app               -2   \n",
       "\n",
       "    word_count  \n",
       "0           28  \n",
       "1           10  \n",
       "2           12  \n",
       "3            7  \n",
       "4           10  \n",
       "5            8  \n",
       "6           24  \n",
       "7            6  \n",
       "8           13  \n",
       "9            5  \n",
       "10          16  \n",
       "11          17  \n",
       "12          16  \n",
       "13          17  \n",
       "14          13  \n",
       "15           8  \n",
       "16          13  \n",
       "17           2  \n",
       "18          10  \n",
       "19           2  "
      ]
     },
     "execution_count": 162,
     "metadata": {},
     "output_type": "execute_result"
    }
   ],
   "source": [
    "sent_df "
   ]
  },
  {
   "cell_type": "code",
   "execution_count": 163,
   "metadata": {
    "ExecuteTime": {
     "end_time": "2021-10-31T10:03:45.198346Z",
     "start_time": "2021-10-31T10:03:45.097341Z"
    }
   },
   "outputs": [
    {
     "data": {
      "text/plain": [
       "count    20.000000\n",
       "mean     -1.700000\n",
       "std       2.536056\n",
       "min      -6.000000\n",
       "25%      -4.000000\n",
       "50%      -2.000000\n",
       "75%       0.000000\n",
       "max       3.000000\n",
       "Name: sentiment_value, dtype: float64"
      ]
     },
     "execution_count": 163,
     "metadata": {},
     "output_type": "execute_result"
    }
   ],
   "source": [
    "# Sentiment score of the whole review\n",
    "sent_df['sentiment_value'].describe() "
   ]
  },
  {
   "cell_type": "code",
   "execution_count": 164,
   "metadata": {
    "ExecuteTime": {
     "end_time": "2021-10-31T10:03:45.324354Z",
     "start_time": "2021-10-31T10:03:45.200347Z"
    }
   },
   "outputs": [],
   "source": [
    "sent_df['index']=range(0,len(sent_df)) "
   ]
  },
  {
   "cell_type": "code",
   "execution_count": 169,
   "metadata": {
    "ExecuteTime": {
     "end_time": "2021-10-31T10:06:10.826857Z",
     "start_time": "2021-10-31T10:06:10.510839Z"
    }
   },
   "outputs": [
    {
     "name": "stderr",
     "output_type": "stream",
     "text": [
      "C:\\Users\\my pc\\anaconda3\\lib\\site-packages\\seaborn\\distributions.py:2551: FutureWarning: `distplot` is a deprecated function and will be removed in a future version. Please adapt your code to use either `displot` (a figure-level function with similar flexibility) or `histplot` (an axes-level function for histograms).\n",
      "  warnings.warn(msg, FutureWarning)\n"
     ]
    },
    {
     "data": {
      "text/plain": [
       "<AxesSubplot:xlabel='sentiment_value', ylabel='Density'>"
      ]
     },
     "execution_count": 169,
     "metadata": {},
     "output_type": "execute_result"
    },
    {
     "data": {
      "image/png": "[encoded data removed]",
      "text/plain": [
       "<Figure size 432x288 with 1 Axes>"
      ]
     },
     "metadata": {},
     "output_type": "display_data"
    }
   ],
   "source": [
    "import seaborn as sns\n",
    "import matplotlib.pyplot as plt\n",
    "sns.distplot(sent_df['sentiment_value']) "
   ]
  },
  {
   "cell_type": "code",
   "execution_count": 170,
   "metadata": {
    "ExecuteTime": {
     "end_time": "2021-10-31T10:06:18.684505Z",
     "start_time": "2021-10-31T10:06:17.733252Z"
    }
   },
   "outputs": [
    {
     "data": {
      "text/plain": [
       "<AxesSubplot:xlabel='index', ylabel='sentiment_value'>"
      ]
     },
     "execution_count": 170,
     "metadata": {},
     "output_type": "execute_result"
    },
    {
     "data": {
      "image/png": "[encoded data removed]",
      "text/plain": [
       "<Figure size 1080x720 with 1 Axes>"
      ]
     },
     "metadata": {},
     "output_type": "display_data"
    }
   ],
   "source": [
    "plt.figure(figsize=(15, 10))\n",
    "sns.lineplot(y='sentiment_value',x='index',data=sent_df) "
   ]
  },
  {
   "cell_type": "code",
   "execution_count": 171,
   "metadata": {
    "ExecuteTime": {
     "end_time": "2021-10-31T10:06:28.867686Z",
     "start_time": "2021-10-31T10:06:28.605671Z"
    }
   },
   "outputs": [
    {
     "data": {
      "text/plain": [
       "<AxesSubplot:title={'center':'Sentence sentiment value to sentence word count'}, xlabel='word_count', ylabel='sentiment_value'>"
      ]
     },
     "execution_count": 171,
     "metadata": {},
     "output_type": "execute_result"
    },
    {
     "data": {
      "image/png": "[encoded data removed]",
      "text/plain": [
       "<Figure size 576x576 with 1 Axes>"
      ]
     },
     "metadata": {},
     "output_type": "display_data"
    }
   ],
   "source": [
    "sent_df.plot.scatter(x='word_count', y='sentiment_value', figsize=(8,8), title='Sentence sentiment value to sentence word count')"
   ]
  },
  {
   "cell_type": "code",
   "execution_count": 174,
   "metadata": {
    "ExecuteTime": {
     "end_time": "2021-10-31T10:08:08.710393Z",
     "start_time": "2021-10-31T10:08:08.433377Z"
    },
    "scrolled": true
   },
   "outputs": [
    {
     "data": {
      "image/png": "[encoded data removed]",
      "text/plain": [
       "<Figure size 432x288 with 1 Axes>"
      ]
     },
     "metadata": {},
     "output_type": "display_data"
    },
    {
     "data": {
      "text/plain": [
       "<Figure size 720x360 with 0 Axes>"
      ]
     },
     "metadata": {},
     "output_type": "display_data"
    }
   ],
   "source": [
    "#another style for visualisation\n",
    "plt.style.use(['dark_background'])\n",
    "plt.hist(sent_df['sentiment_value'])\n",
    "plt.figure(figsize=(10,5))\n",
    "xlabel = 'sentiment_value'"
   ]
  }
 ],
 "metadata": {
  "kernelspec": {
   "display_name": "Python 3",
   "language": "python",
   "name": "python3"
  },
  "language_info": {
   "codemirror_mode": {
    "name": "ipython",
    "version": 3
   },
   "file_extension": ".py",
   "mimetype": "text/x-python",
   "name": "python",
   "nbconvert_exporter": "python",
   "pygments_lexer": "ipython3",
   "version": "3.8.5"
  },
  "varInspector": {
   "cols": {
    "lenName": 16,
    "lenType": 16,
    "lenVar": 40
   },
   "kernels_config": {
    "python": {
     "delete_cmd_postfix": "",
     "delete_cmd_prefix": "del ",
     "library": "var_list.py",
     "varRefreshCmd": "print(var_dic_list())"
    },
    "r": {
     "delete_cmd_postfix": ") ",
     "delete_cmd_prefix": "rm(",
     "library": "var_list.r",
     "varRefreshCmd": "cat(var_dic_list()) "
    }
   },
   "types_to_exclude": [
    "module",
    "function",
    "builtin_function_or_method",
    "instance",
    "_Feature"
   ],
   "window_display": false
  }
 },
 "nbformat": 4,
 "nbformat_minor": 2
}
